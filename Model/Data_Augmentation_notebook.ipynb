{
  "nbformat": 4,
  "nbformat_minor": 0,
  "metadata": {
    "colab": {
      "provenance": [],
      "mount_file_id": "13H18uOcgaty6WOxhfRjzcdPnsg0IGHdK",
      "authorship_tag": "ABX9TyP3SDN0fH0Y6jl9NYo6DyST",
      "include_colab_link": true
    },
    "kernelspec": {
      "name": "python3",
      "display_name": "Python 3"
    },
    "language_info": {
      "name": "python"
    }
  },
  "cells": [
    {
      "cell_type": "markdown",
      "metadata": {
        "id": "view-in-github",
        "colab_type": "text"
      },
      "source": [
        "<a href=\"https://colab.research.google.com/github/singhnidh/Plant-disease-detection-using-Deep-Learning-and-Machine-Vision/blob/main/Model/Data_Augmentation_notebook.ipynb\" target=\"_parent\"><img src=\"https://colab.research.google.com/assets/colab-badge.svg\" alt=\"Open In Colab\"/></a>"
      ]
    },
    {
      "cell_type": "code",
      "source": [
        "from google.colab import drive\n",
        "drive.mount('/content/drive')\n"
      ],
      "metadata": {
        "colab": {
          "base_uri": "https://localhost:8080/"
        },
        "id": "0xNC9YHtVvBt",
        "outputId": "cc7207b8-49c9-4e9e-c899-7b3195368ae4"
      },
      "execution_count": null,
      "outputs": [
        {
          "output_type": "stream",
          "name": "stdout",
          "text": [
            "Drive already mounted at /content/drive; to attempt to forcibly remount, call drive.mount(\"/content/drive\", force_remount=True).\n"
          ]
        }
      ]
    },
    {
      "cell_type": "code",
      "source": [
        "from keras.preprocessing.image import ImageDataGenerator\n",
        "from skimage import io\n",
        "import numpy as np\n",
        "import os\n",
        "from PIL import Image"
      ],
      "metadata": {
        "id": "IkMl7kE7Y114"
      },
      "execution_count": null,
      "outputs": []
    },
    {
      "cell_type": "code",
      "source": [
        "from tensorflow.keras.preprocessing.image import ImageDataGenerator\n",
        "from matplotlib.pyplot import imread, imshow, subplot, show\n",
        "import numpy as np\n",
        "import os\n",
        "from PIL import Image\n",
        "from skimage import io"
      ],
      "metadata": {
        "id": "k7nOspFRgYJf"
      },
      "execution_count": null,
      "outputs": []
    },
    {
      "cell_type": "code",
      "source": [
        "datagen = ImageDataGenerator(\n",
        "        featurewise_center=False,\n",
        "        samplewise_center=False,\n",
        "        featurewise_std_normalization=False,\n",
        "        samplewise_std_normalization=False,\n",
        "        zca_whitening=False,\n",
        "#        zca_epsilon=1e-06,\n",
        "        rotation_range=40,\n",
        "        width_shift_range=0.2,\n",
        "        height_shift_range=0.2,\n",
        "#        brightness_range=None,\n",
        "        shear_range=0.2,\n",
        "        zoom_range=0.2,\n",
        "        channel_shift_range=0.0,\n",
        "        fill_mode=\"reflect\",\n",
        "        cval=0.0,\n",
        "        horizontal_flip=True,\n",
        "        vertical_flip=True,\n",
        "        rescale=None,\n",
        "        preprocessing_function=None,\n",
        "        data_format=None,\n",
        "#        validation_split=0.0,\n",
        "#        dtype=None,\n",
        "        )"
      ],
      "metadata": {
        "id": "lOoMuQPCZf9d"
      },
      "execution_count": null,
      "outputs": []
    },
    {
      "cell_type": "code",
      "source": [
        "image_directory = '/content/drive/MyDrive/VIT PROJECT WORK/Mater Project VIT FINAL SEM/ DATASET/PlantVillage-Dataset/Apple___Apple_scab/'\n",
        "SIZE = 224\n",
        "dataset = []\n",
        "my_images = os.listdir(image_directory)"
      ],
      "metadata": {
        "id": "WmtdbU03ZmBW"
      },
      "execution_count": null,
      "outputs": []
    },
    {
      "cell_type": "code",
      "source": [
        "for i, image_name in enumerate(my_images):\n",
        "    if ((image_name.split('.')[1] == 'jpg') or (image_name.split('.')[1] == 'JPG')):\n",
        "        image = io.imread(image_directory + image_name)\n",
        "        image = Image.fromarray(image, 'RGB')\n",
        "        image = image.resize((SIZE,SIZE))\n",
        "        dataset.append(np.array(image))\n",
        "\n",
        "x = np.array(dataset)"
      ],
      "metadata": {
        "id": "_YP-aKZ9tKZ3"
      },
      "execution_count": null,
      "outputs": []
    },
    {
      "cell_type": "code",
      "source": [
        "batch_size = 20 # how many images should be created at a time\n",
        "num_of_count = 50\n",
        "num_of_images = batch_size * num_of_count\n",
        "\n",
        "count = 1\n",
        "for batch in datagen.flow(x, batch_size=10, save_to_dir='/content/drive/MyDrive/VIT PROJECT WORK/Mater Project VIT FINAL SEM/ DATASET/ Augmented Dataset/ Aug_Apple___Apple_scab',\n",
        "                          save_prefix='aug', save_format='jpg'):\n",
        "    count += 1\n",
        "    if count > num_of_count:\n",
        "        break\n",
        "\n",
        "print(\"%d images are generated\" % num_of_images)"
      ],
      "metadata": {
        "colab": {
          "base_uri": "https://localhost:8080/"
        },
        "id": "c1zEGohCtzW7",
        "outputId": "330531e4-b1a8-4712-f5b9-7a7ea3297d20"
      },
      "execution_count": null,
      "outputs": [
        {
          "output_type": "stream",
          "name": "stdout",
          "text": [
            "1000 images are generated\n"
          ]
        }
      ]
    },
    {
      "cell_type": "code",
      "source": [],
      "metadata": {
        "id": "uR3bCJNSt4YE"
      },
      "execution_count": null,
      "outputs": []
    }
  ]
}